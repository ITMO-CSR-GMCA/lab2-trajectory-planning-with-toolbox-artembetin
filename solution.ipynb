{
 "cells": [
  {
   "cell_type": "code",
   "execution_count": null,
   "id": "02c3055b",
   "metadata": {},
   "outputs": [],
   "source": [
    "from math import pi\n",
    "import numpy as np\n",
    "import roboticstoolbox as rtb\n",
    "import matplotlib.pyplot as plt\n",
    "import spatialmath.base as sb"
   ]
  },
  {
   "cell_type": "code",
   "execution_count": null,
   "id": "444d4956",
   "metadata": {},
   "outputs": [],
   "source": [
    "robot = rtb.models.DH.UR5()\n",
    "\n",
    "# Display the Denavit-Hartenberg parameters of the robot\n",
    "print(\"Denavit-Hartenberg Parameters:\")\n",
    "print(robot)"
   ]
  },
  {
   "cell_type": "markdown",
   "id": "8ca4aa79",
   "metadata": {},
   "source": [
    "### 2. Fill in the parameters of the robot model - UR5 robot"
   ]
  },
  {
   "cell_type": "code",
   "execution_count": null,
   "id": "738a6635",
   "metadata": {},
   "outputs": [],
   "source": [
    "print(robot.links[0].dyn())  # initial dynamic parameters of the first link"
   ]
  },
  {
   "cell_type": "code",
   "execution_count": null,
   "id": "23cd332b",
   "metadata": {},
   "outputs": [],
   "source": [
    "for i in range(len(robot.links)):\n",
    "    print(robot.links[i].m)  "
   ]
  },
  {
   "cell_type": "code",
   "execution_count": null,
   "id": "d694a489",
   "metadata": {},
   "outputs": [],
   "source": [
    "for i in range(len(robot.links)):\n",
    "    print(robot.links[i].r)  "
   ]
  },
  {
   "cell_type": "code",
   "execution_count": null,
   "id": "6facaacc",
   "metadata": {},
   "outputs": [],
   "source": [
    "for i in range(len(robot.links)):\n",
    "    print(robot.links[i].I)  "
   ]
  },
  {
   "cell_type": "code",
   "execution_count": null,
   "id": "3b71978b",
   "metadata": {},
   "outputs": [],
   "source": [
    "for i in range(len(robot.links)):\n",
    "    print(robot.links[i].Jm)  "
   ]
  },
  {
   "cell_type": "code",
   "execution_count": null,
   "id": "e1064ef4",
   "metadata": {},
   "outputs": [],
   "source": [
    "for i in range(len(robot.links)):\n",
    "    print(robot.links[i].B)  "
   ]
  },
  {
   "cell_type": "code",
   "execution_count": null,
   "id": "54bd908b",
   "metadata": {},
   "outputs": [],
   "source": [
    "for i in range(len(robot.links)):\n",
    "    print(robot.links[i].Tc)  "
   ]
  },
  {
   "cell_type": "code",
   "execution_count": null,
   "id": "e08a8387",
   "metadata": {},
   "outputs": [],
   "source": [
    "for i in range(len(robot.links)):\n",
    "    print(robot.links[i].G)  "
   ]
  },
  {
   "cell_type": "code",
   "execution_count": null,
   "id": "7875a372",
   "metadata": {},
   "outputs": [],
   "source": [
    "for i in range(len(robot.links)):\n",
    "    print(robot.links[i].qlim)  "
   ]
  },
  {
   "cell_type": "code",
   "execution_count": null,
   "id": "3e0c5516",
   "metadata": {},
   "outputs": [],
   "source": [
    "# Set restrictions on the joint variables\n",
    "robot.links[0].qlim = [-2.792526803190927, 2.792526803190927]\n",
    "robot.links[1].qlim = [-0.785398163397448, 3.926990816987241]\n",
    "robot.links[2].qlim = [-3.926990816987241, 0.785398163397448]\n",
    "robot.links[3].qlim = [-1.919862177193763, 2.967059728390360]\n",
    "robot.links[4].qlim = [-1.745329251994330, 1.745329251994330]\n",
    "robot.links[5].qlim = [-4.642575810304916, 4.642575810304916]"
   ]
  },
  {
   "cell_type": "markdown",
   "id": "eda9c9ce",
   "metadata": {},
   "source": [
    "### 3. Set the initial and final positions of the robot and plot them"
   ]
  },
  {
   "cell_type": "code",
   "execution_count": null,
   "id": "98e7d1fb",
   "metadata": {},
   "outputs": [],
   "source": [
    "q_start = [0, 0, 0, 0, 0, 0]\n",
    "robot.plot(q_start)\n",
    "plt.show()"
   ]
  },
  {
   "cell_type": "markdown",
   "id": "d1fcb6ac",
   "metadata": {},
   "source": [
    "### 4. Solve forward Kinematics"
   ]
  },
  {
   "cell_type": "code",
   "execution_count": null,
   "id": "c6f742d9",
   "metadata": {},
   "outputs": [],
   "source": [
    "T_start = robot.fkine(q_start)\n",
    "print(T_start)"
   ]
  },
  {
   "cell_type": "markdown",
   "id": "19c3313c",
   "metadata": {},
   "source": [
    "### 5. Construct the manipulator's workspace under the given joint constraints."
   ]
  },
  {
   "cell_type": "code",
   "execution_count": null,
   "id": "270d9740",
   "metadata": {},
   "outputs": [],
   "source": [
    "n = 10  # Количество точек по каждой оси\n",
    "i = 0  # Просто счетчик\n",
    "move = [np.linspace(robot.links[i].qlim[0], robot.links[i].qlim[1], n) for i in range(4)]  # Записываем пределы перемещения для первых 4 звеньев\n",
    "pose = np.zeros([3,n**4])  # Создаем пустой массив для записи данных"
   ]
  },
  {
   "cell_type": "code",
   "execution_count": null,
   "id": "09d93201",
   "metadata": {},
   "outputs": [],
   "source": [
    "# Проходимся перебором по каждой точке\n",
    "for q1 in move[0]:\n",
    "    for q2 in move[1]:\n",
    "        for q3 in move[2]:\n",
    "            for q4 in move[3]:\n",
    "                Tt = robot.fkine([q1,q2,q3,q4,0,0])  # Решаем ПЗК, меняя только первые 5 обобщенных координаты\n",
    "                for j in range(3):\n",
    "                    pose[j][i] = Tt.t[j]  # Сохраняем точку\n",
    "                i += 1"
   ]
  },
  {
   "cell_type": "code",
   "execution_count": null,
   "id": "ef611a40",
   "metadata": {},
   "outputs": [],
   "source": [
    "plt.figure(figsize=(5,5), dpi=300)\n",
    "ax = plt.axes(projection=\"3d\")\n",
    "ax.plot3D(pose[0], pose[1], pose[2], color='red', linewidth=0.15)\n",
    "ax.scatter3D(pose[0], pose[1], pose[2], s=0.5, color='red')\n",
    "ax.set_xlim(-1,1)\n",
    "ax.set_ylim(-1,1)\n",
    "ax.set_zlim(-1,1)\n",
    "plt.show()"
   ]
  },
  {
   "cell_type": "markdown",
   "id": "3e0c0575",
   "metadata": {},
   "source": [
    "### 6. Select an end point within the workspace and solve the inverse kinematics problem for it."
   ]
  },
  {
   "cell_type": "code",
   "execution_count": null,
   "id": "2c4d9184",
   "metadata": {},
   "outputs": [],
   "source": [
    "point = [-pi/4,0.1,pi/3]\n",
    "T_end = sb.transl(point)\n",
    "q_end = robot.ikine_GN(T_end).q  # Есть другие методы, помимо ikine_GN\n",
    "robot.plot(q_end)\n",
    "plt.show()"
   ]
  },
  {
   "cell_type": "markdown",
   "id": "ca447505",
   "metadata": {},
   "source": [
    "### 7. Plan the trajectory between the initial and final positions of the manipulator's end-effector using at least three planning methods."
   ]
  },
  {
   "cell_type": "code",
   "execution_count": null,
   "id": "56f47584",
   "metadata": {},
   "outputs": [],
   "source": [
    "N = 100\n",
    "t_start = 0\n",
    "t_stop = 5\n",
    "t_shag = t_stop/N\n",
    "time = np.arange(t_start, t_stop, t_shag)\n",
    "\n",
    "tr_jtraj = rtb.jtraj(q_start, q_end, time) # Joint-space trajectory between SE(3) poses"
   ]
  },
  {
   "cell_type": "code",
   "execution_count": null,
   "id": "8ef49c17",
   "metadata": {},
   "outputs": [],
   "source": [
    "# Scalar trapezoidal trajectory\n",
    "tr_trap = rtb.mtraj(rtb.trapezoidal, q_start, q_end, time) "
   ]
  },
  {
   "cell_type": "code",
   "execution_count": null,
   "id": "7f86da67",
   "metadata": {},
   "outputs": [],
   "source": [
    "# Generate scalar polynomial trajectory\n",
    "tr_quin = rtb.mtraj(rtb.quintic, q_start, q_end, time) "
   ]
  },
  {
   "cell_type": "markdown",
   "id": "34b4ea07",
   "metadata": {},
   "source": [
    "### 8. Plot graphs of position, velocity, and acceleration of the robot's joints during trajectory motion."
   ]
  },
  {
   "cell_type": "markdown",
   "id": "240b898c",
   "metadata": {},
   "source": [
    "#### **Position**"
   ]
  },
  {
   "cell_type": "code",
   "execution_count": null,
   "id": "45f0781b",
   "metadata": {},
   "outputs": [],
   "source": [
    "plt.figure(figsize=(10,5), dpi=300)  # Задаем размеры холста и плотность точек (четкость графика)\n",
    "for g in range(1,7):\n",
    "    plt.subplot(2,3,g)\n",
    "    plt.subplots_adjust(left=0, bottom=0, right=1, top=1, wspace=0.2, hspace=0.25)  # Задаем интервалы между графиками, чтоб не перекрывали друг друга\n",
    "    traektoriya_jtraj = [tr_jtraj.q[i][g-1] for i in range(len(tr_jtraj.q))]  # Извлекаем нужные данные\n",
    "    traektoriya_trap = [tr_trap.q[i][g-1] for i in range(len(tr_trap.q))]  # Извлекаем нужные данные\n",
    "    traektoriya_quin = [tr_quin.q[i][g-1] for i in range(len(tr_quin.q))]  # Извлекаем нужные данные\n",
    "    plt.plot(time, traektoriya_jtraj, linestyle='-', linewidth=2, color=(1,0,0), label=r\"jtraj\")  # Рисуем линию\n",
    "    plt.plot(time, traektoriya_trap, linestyle='-', linewidth=2, color=(0,1,0), label=r\"lspb\")  # Рисуем линию\n",
    "    plt.plot(time, traektoriya_quin, linestyle='--', linewidth=2, color=(0,0,1), label=r\"tpoly\")  # Рисуем линию\n",
    "    plt.title(r\"Положение звена {}\".format(g), fontsize=10)  # Название графика\n",
    "    plt.ylabel(r\"$q$  [$rad$]\", fontsize=9)  # Подпись оси Y\n",
    "    plt.xlabel(r\"$t$  [$sec$]\", fontsize=9)  # Подпись оси X\n",
    "    plt.grid(True)  # Добавить сетку\n",
    "    plt.legend()  # Отобразить легенду (покажет то, что написано в 'label')\n",
    "    ax = plt.gca()  # gca = get current axis - чтобы редактировать конкретную фигуру\n",
    "    ax.set_facecolor((1,1,1))  # Цвет фона на графике\n",
    "    ax.set_xlim([t_start-0.1,t_stop+0.1])  # Пределы по оси X\n",
    "plt.show()"
   ]
  },
  {
   "cell_type": "markdown",
   "id": "5b2cd03d",
   "metadata": {},
   "source": [
    "#### **Velocity**"
   ]
  },
  {
   "cell_type": "code",
   "execution_count": null,
   "id": "398d5cf9",
   "metadata": {},
   "outputs": [],
   "source": [
    "plt.figure(figsize=(10,5), dpi=300)  # Задаем размеры холста и плотность точек (четкость графика)\n",
    "for g in range(1,7):\n",
    "    plt.subplot(2,3,g)\n",
    "    plt.subplots_adjust(left=0, bottom=0, right=1, top=1, wspace=0.25, hspace=0.25)  # Задаем интервалы между графиками, чтоб не перекрывали друг друга\n",
    "    traektoriya_jtraj = [tr_jtraj.qd[i][g-1] for i in range(len(tr_jtraj.qd))]  # Извлекаем нужные данные\n",
    "    traektoriya_trap = [tr_trap.qd[i][g-1] for i in range(len(tr_trap.qd))]  # Извлекаем нужные данные\n",
    "    traektoriya_quin = [tr_quin.qd[i][g-1] for i in range(len(tr_quin.qd))]  # Извлекаем нужные данные\n",
    "    plt.plot(time, traektoriya_jtraj, linestyle='-', linewidth=2, color=(1,0,0), label=r\"jtraj\")  # Рисуем линию\n",
    "    plt.plot(time, traektoriya_trap, linestyle='-', linewidth=2, color=(0,1,0), label=r\"lspb\")  # Рисуем линию\n",
    "    plt.plot(time, traektoriya_quin, linestyle='--', linewidth=2, color=(0,0,1), label=r\"tpoly\")  # Рисуем линию\n",
    "    plt.title(r\"Скорость звена {}\".format(g), fontsize=10)  # Название графика\n",
    "    plt.ylabel(r\"$dq/dt$  [$rad/sec$]\", fontsize=9)  # Подпись оси Y\n",
    "    plt.xlabel(r\"$t$  [$sec$]\", fontsize=9)  # Подпись оси X\n",
    "    plt.grid(True)  # Добавить сетку\n",
    "    plt.legend()  # Отобразить легенду (покажет то, что написано в 'label')\n",
    "    ax = plt.gca()  # gca = get current axis - чтобы редактировать конкретную фигуру\n",
    "    ax.set_facecolor((1,1,1))  # Цвет фона на графике\n",
    "    ax.set_xlim([t_start-0.1,t_stop+0.1])  # Пределы по оси X\n",
    "plt.show()"
   ]
  },
  {
   "cell_type": "markdown",
   "id": "317c7851",
   "metadata": {},
   "source": [
    "#### **Accelator**"
   ]
  },
  {
   "cell_type": "code",
   "execution_count": null,
   "id": "7d114e6a",
   "metadata": {},
   "outputs": [],
   "source": [
    "fig = plt.figure(figsize=(10,5), dpi=300)  # Задаем размеры холста и плотность точек (четкость графика)\n",
    "for g in range(1,7):\n",
    "    plt.subplot(2,3,g)\n",
    "    plt.subplots_adjust(left=0, bottom=0, right=1, top=1, wspace=0.3, hspace=0.25)  # Задаем интервалы между графиками, чтоб не перекрывали друг друга\n",
    "    traektoriya_jtraj = [tr_jtraj.qdd[i][g-1] for i in range(len(tr_jtraj.qdd))]  # Извлекаем нужные данные\n",
    "    traektoriya_trap = [tr_trap.qdd[i][g-1] for i in range(len(tr_trap.qdd))]  # Извлекаем нужные данные\n",
    "    traektoriya_quin = [tr_quin.qdd[i][g-1] for i in range(len(tr_quin.qdd))]  # Извлекаем нужные данные\n",
    "    plt.plot(time, traektoriya_jtraj, linestyle='-', linewidth=2, color=(1,0,0), label=r\"jtraj\")  # Рисуем линию\n",
    "    plt.plot(time, traektoriya_trap, linestyle='-', linewidth=2, color=(0,1,0), label=r\"lspb\")  # Рисуем линию\n",
    "    plt.plot(time, traektoriya_quin, linestyle='--', linewidth=2, color=(0,0,1), label=r\"tpoly\")  # Рисуем линию\n",
    "    plt.title(r\"Ускорение звена {}\".format(g), fontsize=10)  # Название графика\n",
    "    plt.ylabel(r\"${d^2}q/d{t^2}$  [$rad/{sec}^2$]\", fontsize=9)  # Подпись оси Y\n",
    "    plt.xlabel(r\"$t$  [$sec$]\", fontsize=9)  # Подпись оси X\n",
    "    plt.grid(True)  # Добавить сетку\n",
    "    plt.legend()  # Отобразить легенду (покажет то, что написано в 'label')\n",
    "    ax = plt.gca()  # gca = get current axis - чтобы редактировать конкретную фигуру\n",
    "    ax.set_facecolor((1,1,1))  # Цвет фона на графике\n",
    "    ax.set_xlim([t_start-0.1,t_stop+0.1])  # Пределы по оси X\n",
    "plt.show()"
   ]
  },
  {
   "cell_type": "markdown",
   "id": "69e53df8",
   "metadata": {},
   "source": [
    "## **Conclusion**\n",
    "+ jtraj and mtraj(quintic) yield virtually identical profiles for position, velocity, and acceleration. Because both rely on a 5th-order time-scaling polynomial, acceleration remains continuous and jerk stays bounded, resulting in exceptionally smooth motion.\n",
    "+ The LSPB method generates a classic trapezoidal velocity curve: a ramp-up, a flat constant-speed segment, and a ramp-down. Acceleration is only piece-wise constant, so it jumps abruptly at the transition points, producing noticeable jerk spikes and a correspondingly rougher trajectory."
   ]
  }
 ],
 "metadata": {
  "kernelspec": {
   "display_name": "robotics_env",
   "language": "python",
   "name": "python3"
  },
  "language_info": {
   "codemirror_mode": {
    "name": "ipython",
    "version": 3
   },
   "file_extension": ".py",
   "mimetype": "text/x-python",
   "name": "python",
   "nbconvert_exporter": "python",
   "pygments_lexer": "ipython3",
   "version": "3.12.3"
  }
 },
 "nbformat": 4,
 "nbformat_minor": 5
}
